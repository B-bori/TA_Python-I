{
  "nbformat": 4,
  "nbformat_minor": 0,
  "metadata": {
    "colab": {
      "name": "[PythonI]200415.ipynb",
      "provenance": [],
      "collapsed_sections": [],
      "authorship_tag": "ABX9TyOj7cQBJjHqZ56sTKUAqtZw",
      "include_colab_link": true
    },
    "kernelspec": {
      "name": "python3",
      "display_name": "Python 3"
    }
  },
  "cells": [
    {
      "cell_type": "markdown",
      "metadata": {
        "id": "view-in-github",
        "colab_type": "text"
      },
      "source": [
        "<a href=\"https://colab.research.google.com/github/HyejeongLee/TA_Python-I/blob/master/%5BPythonI%5D200415.ipynb\" target=\"_parent\"><img src=\"https://colab.research.google.com/assets/colab-badge.svg\" alt=\"Open In Colab\"/></a>"
      ]
    },
    {
      "cell_type": "markdown",
      "metadata": {
        "id": "h941UwMyQ25i",
        "colab_type": "text"
      },
      "source": [
        "#### #1."
      ]
    },
    {
      "cell_type": "code",
      "metadata": {
        "id": "qtWPnJtKQl0V",
        "colab_type": "code",
        "colab": {}
      },
      "source": [
        "#reference of String Methods\n",
        "#https://www.w3schools.com/python/python_ref_string.asp\n",
        "\n",
        "Name = \"Hye Do\""
      ],
      "execution_count": 0,
      "outputs": []
    },
    {
      "cell_type": "code",
      "metadata": {
        "id": "27jBxY7aQzGr",
        "colab_type": "code",
        "colab": {
          "base_uri": "https://localhost:8080/",
          "height": 34
        },
        "outputId": "a96341a5-fa76-4cae-caf5-e14b414185bd"
      },
      "source": [
        "Name = Name.replace(\"Do\",\"Jeong\")\n",
        "print(Name)"
      ],
      "execution_count": 2,
      "outputs": [
        {
          "output_type": "stream",
          "text": [
            "Hye Jeong\n"
          ],
          "name": "stdout"
        }
      ]
    },
    {
      "cell_type": "code",
      "metadata": {
        "id": "SmTPFLJz14Ik",
        "colab_type": "code",
        "colab": {
          "base_uri": "https://localhost:8080/",
          "height": 34
        },
        "outputId": "7d09bdac-18c8-4799-a50a-c9865b04db22"
      },
      "source": [
        "Name.upper()"
      ],
      "execution_count": 3,
      "outputs": [
        {
          "output_type": "execute_result",
          "data": {
            "text/plain": [
              "'HYE JEONG'"
            ]
          },
          "metadata": {
            "tags": []
          },
          "execution_count": 3
        }
      ]
    },
    {
      "cell_type": "code",
      "metadata": {
        "id": "of5DNBHR1_gg",
        "colab_type": "code",
        "colab": {
          "base_uri": "https://localhost:8080/",
          "height": 34
        },
        "outputId": "7fedd317-0c8a-4743-92a0-8bdbb65954ab"
      },
      "source": [
        "Nametuple = (\"Professor\", \"Blake\", \"Ryu\")\n",
        "\n",
        "fullname = \"#\".join(Nametuple)\n",
        "\n",
        "print(fullname)"
      ],
      "execution_count": 4,
      "outputs": [
        {
          "output_type": "stream",
          "text": [
            "Professor#Blake#Ryu\n"
          ],
          "name": "stdout"
        }
      ]
    },
    {
      "cell_type": "code",
      "metadata": {
        "id": "wxZRuxbu2kQW",
        "colab_type": "code",
        "colab": {
          "base_uri": "https://localhost:8080/",
          "height": 34
        },
        "outputId": "f2ebb9fc-44d4-4745-aae7-5e3529b21c34"
      },
      "source": [
        "txt = \"welcome:to:the:hanyang\"\n",
        "\n",
        "x = txt.split(\":\")\n",
        "\n",
        "print(x)"
      ],
      "execution_count": 5,
      "outputs": [
        {
          "output_type": "stream",
          "text": [
            "['welcome', 'to', 'the', 'hanyang']\n"
          ],
          "name": "stdout"
        }
      ]
    },
    {
      "cell_type": "markdown",
      "metadata": {
        "id": "xDMq35R2R0x3",
        "colab_type": "text"
      },
      "source": [
        "#### #2."
      ]
    },
    {
      "cell_type": "code",
      "metadata": {
        "id": "EMUQja6NScD9",
        "colab_type": "code",
        "colab": {}
      },
      "source": [
        "sentence = \"Tutors:Nice to meet you\""
      ],
      "execution_count": 0,
      "outputs": []
    },
    {
      "cell_type": "code",
      "metadata": {
        "id": "Vb3r_ERgMyQU",
        "colab_type": "code",
        "colab": {
          "base_uri": "https://localhost:8080/",
          "height": 68
        },
        "outputId": "66e153e4-2381-4847-f879-72aab6b20197"
      },
      "source": [
        "split_sentence = sentence.split(\":\")\n",
        "print(split_sentence)\n",
        "\n",
        "who = split_sentence[0]\n",
        "print(\"Messages from :\",who)\n",
        "\n",
        "words = split_sentence[1].split()\n",
        "print(words)"
      ],
      "execution_count": 7,
      "outputs": [
        {
          "output_type": "stream",
          "text": [
            "['Tutors', 'Nice to meet you']\n",
            "Messages from : Tutors\n",
            "['Nice', 'to', 'meet', 'you']\n"
          ],
          "name": "stdout"
        }
      ]
    },
    {
      "cell_type": "code",
      "metadata": {
        "id": "tvKTQLTxMyZw",
        "colab_type": "code",
        "colab": {
          "base_uri": "https://localhost:8080/",
          "height": 34
        },
        "outputId": "d25d6e7a-ccf1-4623-d653-078da68a2444"
      },
      "source": [
        "sentence.count(\"e\")"
      ],
      "execution_count": 8,
      "outputs": [
        {
          "output_type": "execute_result",
          "data": {
            "text/plain": [
              "3"
            ]
          },
          "metadata": {
            "tags": []
          },
          "execution_count": 8
        }
      ]
    },
    {
      "cell_type": "code",
      "metadata": {
        "id": "8OPC66CgO-dm",
        "colab_type": "code",
        "colab": {
          "base_uri": "https://localhost:8080/",
          "height": 51
        },
        "outputId": "34cc729c-ee18-440c-88a1-b5c73b605d7d"
      },
      "source": [
        "print(sentence[-3:])\n",
        "print(sentence[:-3])"
      ],
      "execution_count": 9,
      "outputs": [
        {
          "output_type": "stream",
          "text": [
            "you\n",
            "Tutors:Nice to meet \n"
          ],
          "name": "stdout"
        }
      ]
    },
    {
      "cell_type": "code",
      "metadata": {
        "id": "cYQ4igN1PyZ3",
        "colab_type": "code",
        "colab": {
          "base_uri": "https://localhost:8080/",
          "height": 51
        },
        "outputId": "fb376aa8-85d7-44e2-a0e1-a5d8832f93ca"
      },
      "source": [
        "repeat_two = sentence*2\n",
        "print(repeat_two)\n",
        "len(repeat_two)"
      ],
      "execution_count": 10,
      "outputs": [
        {
          "output_type": "stream",
          "text": [
            "Tutors:Nice to meet youTutors:Nice to meet you\n"
          ],
          "name": "stdout"
        },
        {
          "output_type": "execute_result",
          "data": {
            "text/plain": [
              "46"
            ]
          },
          "metadata": {
            "tags": []
          },
          "execution_count": 10
        }
      ]
    },
    {
      "cell_type": "markdown",
      "metadata": {
        "id": "rzJco53-Rdl5",
        "colab_type": "text"
      },
      "source": [
        "#### #3."
      ]
    },
    {
      "cell_type": "code",
      "metadata": {
        "id": "ff64fwj0RsEz",
        "colab_type": "code",
        "colab": {
          "base_uri": "https://localhost:8080/",
          "height": 34
        },
        "outputId": "b36a37be-6742-4abd-b283-1bf49bf6d078"
      },
      "source": [
        "tuple_Genre = (\"Pop\",\"Rock\",\"Soul\",\"Hard Rock\",\"Soft rock\",\"R&B\",\"Progressive rock\",\"Disco\")\n",
        "\n",
        "# find number of genre\n",
        "def what_is_number(genre):\n",
        "  if genre in tuple_Genre:\n",
        "    print(tuple_Genre.index(genre))\n",
        "\n",
        "what_is_number(\"R&B\")"
      ],
      "execution_count": 11,
      "outputs": [
        {
          "output_type": "stream",
          "text": [
            "5\n"
          ],
          "name": "stdout"
        }
      ]
    }
  ]
}