{
  "nbformat": 4,
  "nbformat_minor": 0,
  "metadata": {
    "colab": {
      "name": "[PythonI]200413.ipynb",
      "provenance": [],
      "collapsed_sections": [],
      "authorship_tag": "ABX9TyOpMvvI40HSSe1FWowJO7PX",
      "include_colab_link": true
    },
    "kernelspec": {
      "name": "python3",
      "display_name": "Python 3"
    }
  },
  "cells": [
    {
      "cell_type": "markdown",
      "metadata": {
        "id": "view-in-github",
        "colab_type": "text"
      },
      "source": [
        "<a href=\"https://colab.research.google.com/github/HyejeongLee/TA_Python-I/blob/master/%5BPythonI%5D200413.ipynb\" target=\"_parent\"><img src=\"https://colab.research.google.com/assets/colab-badge.svg\" alt=\"Open In Colab\"/></a>"
      ]
    },
    {
      "cell_type": "markdown",
      "metadata": {
        "id": "_-OlWQ11E-KM",
        "colab_type": "text"
      },
      "source": [
        "#Q1\n",
        "##### Write your code below and prsee Shift+enter to execute "
      ]
    },
    {
      "cell_type": "code",
      "metadata": {
        "id": "uAmAK1t_E9_f",
        "colab_type": "code",
        "outputId": "573fd381-bdf3-44a7-87da-03f52a64f656",
        "colab": {
          "base_uri": "https://localhost:8080/",
          "height": 34
        }
      },
      "source": [
        "print(\"Hello 'Intelligence Computing' Department!!!\")"
      ],
      "execution_count": 0,
      "outputs": [
        {
          "output_type": "stream",
          "text": [
            "Hello 'Intelligence Computing' Department!!!\n"
          ],
          "name": "stdout"
        }
      ]
    },
    {
      "cell_type": "markdown",
      "metadata": {
        "id": "-z-5HY5tE34M",
        "colab_type": "text"
      },
      "source": [
        "#Q2.\n",
        "#####2-1. write your code below about \"What is the data type of the result 6 / 2? \n",
        "\n",
        "#####2-2. write your code below about \"What is the data type of the result 6 // 2?"
      ]
    },
    {
      "cell_type": "code",
      "metadata": {
        "id": "xireEgvOE3uf",
        "colab_type": "code",
        "colab": {}
      },
      "source": [
        "# 2-1\n",
        "x = 6 / 2\n",
        "print(x)\n",
        "print(type(x))\n",
        "\n",
        "# 2-2\n",
        "y = 6 // 2\n",
        "print(y)\n",
        "print(type(y))"
      ],
      "execution_count": 0,
      "outputs": []
    },
    {
      "cell_type": "markdown",
      "metadata": {
        "id": "wfyLYKSQEy7e",
        "colab_type": "text"
      },
      "source": [
        "#Q3.\n",
        "######1300 mins to convert into Total_Hour and the remaining goes into Minutes \n",
        "\n",
        "###### write a code to read the total mins (e.g, 1300) to the right representing the hour, and the minute separately.  "
      ]
    },
    {
      "cell_type": "code",
      "metadata": {
        "id": "yHorK7GpEvjb",
        "colab_type": "code",
        "outputId": "96fac033-4f43-442a-d361-d6f607c268a6",
        "colab": {
          "base_uri": "https://localhost:8080/",
          "height": 34
        }
      },
      "source": [
        "Total_Min = 1300 # the variable Total_Min is initialized with 1,300, you don't need to declare the variable Total_Min is interger or float or String..\n",
        "Total_Hour = Total_Min/60\n",
        "\n",
        "Total_Time_Representing = print(\"Hour: \", int(Total_Hour) , \"Min:\" , Total_Min%60)\n",
        "Total_Time_Representing"
      ],
      "execution_count": 0,
      "outputs": [
        {
          "output_type": "stream",
          "text": [
            "Hour:  21 Min: 40\n"
          ],
          "name": "stdout"
        }
      ]
    }
  ]
}