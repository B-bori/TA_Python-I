{
  "nbformat": 4,
  "nbformat_minor": 0,
  "metadata": {
    "colab": {
      "name": "[PythonI]200417.ipynb",
      "provenance": [],
      "collapsed_sections": [],
      "authorship_tag": "ABX9TyNHkf6L0DuOY5/1UPrneJKs",
      "include_colab_link": true
    },
    "kernelspec": {
      "name": "python3",
      "display_name": "Python 3"
    }
  },
  "cells": [
    {
      "cell_type": "markdown",
      "metadata": {
        "id": "view-in-github",
        "colab_type": "text"
      },
      "source": [
        "<a href=\"https://colab.research.google.com/github/HyejeongLee/TA_Python-I/blob/master/%5BPythonI%5D200417.ipynb\" target=\"_parent\"><img src=\"https://colab.research.google.com/assets/colab-badge.svg\" alt=\"Open In Colab\"/></a>"
      ]
    },
    {
      "cell_type": "markdown",
      "metadata": {
        "id": "jqSG-j7JMyFO",
        "colab_type": "text"
      },
      "source": [
        "### #1."
      ]
    },
    {
      "cell_type": "code",
      "metadata": {
        "id": "7amo3A_bMvxk",
        "colab_type": "code",
        "colab": {
          "base_uri": "https://localhost:8080/",
          "height": 136
        },
        "outputId": "670fb34e-b3fb-4956-c374-6dc63f22c37c"
      },
      "source": [
        "# Create a list a_list, with the following elements 1, hello, [1,2,3] and True (i.e., Boolean).\n",
        "a_list = [1,\"hello\",[1,2,3],True]\n",
        "\n",
        "# Find the value stored at index 1 of a_list.\n",
        "print(a_list[1])\n",
        "print(\"----------\")\n",
        "\n",
        "# Retrieve the elements stored at index 1, 2 and 3 of a_list.\n",
        "for i in range(1,4):\n",
        "  print(a_list[i])\n",
        "  \n",
        "print(\"----------\")\n",
        "\n",
        "# Concatenate the following lists A = [1, 'a'] and B = [2, 1, 'd']:\n",
        "A = [1, 'a']\n",
        "B = [2, 1, 'd']\n",
        "\n",
        "print(A+B)"
      ],
      "execution_count": 58,
      "outputs": [
        {
          "output_type": "stream",
          "text": [
            "hello\n",
            "----------\n",
            "hello\n",
            "[1, 2, 3]\n",
            "True\n",
            "----------\n",
            "[1, 'a', 2, 1, 'd']\n"
          ],
          "name": "stdout"
        }
      ]
    },
    {
      "cell_type": "markdown",
      "metadata": {
        "id": "Og_rW4UCOsn8",
        "colab_type": "text"
      },
      "source": [
        "### #2."
      ]
    },
    {
      "cell_type": "code",
      "metadata": {
        "id": "LL72MTKKNnRO",
        "colab_type": "code",
        "colab": {
          "base_uri": "https://localhost:8080/",
          "height": 71
        },
        "outputId": "7a782dcc-b0aa-460f-8779-026ffcda0a16"
      },
      "source": [
        "soundtrack_dic = {\"Thriller\": \"1982\", \"Back in Black\": \"1980\",\"The Dark Side of the Moon\": \"1973\", \"The Bodyguard\": \"1992\",\n",
        "                  \"Bat Out of Hell\": \"1977\", \"Their Greatest Hits (1971-1975)\": \"1976\", \n",
        "                  \"Saturday Night Fever\": \"1977\", \"Rumours\": \"1977\"}\n",
        "\n",
        "#write a code to display all of the keys\n",
        "print(soundtrack_dic.keys())\n",
        "\n",
        "#write a code to display all of the values\n",
        "print(soundtrack_dic.values())"
      ],
      "execution_count": 59,
      "outputs": [
        {
          "output_type": "stream",
          "text": [
            "dict_keys(['Thriller', 'Back in Black', 'The Dark Side of the Moon', 'The Bodyguard', 'Bat Out of Hell', 'Their Greatest Hits (1971-1975)', 'Saturday Night Fever', 'Rumours'])\n",
            "dict_values(['1982', '1980', '1973', '1992', '1977', '1976', '1977', '1977'])\n"
          ],
          "name": "stdout"
        }
      ]
    },
    {
      "cell_type": "markdown",
      "metadata": {
        "id": "JN5MOoINQFD0",
        "colab_type": "text"
      },
      "source": [
        "### #3."
      ]
    },
    {
      "cell_type": "code",
      "metadata": {
        "id": "_X8oLs2YPFZN",
        "colab_type": "code",
        "colab": {
          "base_uri": "https://localhost:8080/",
          "height": 153
        },
        "outputId": "3bb7bad4-b3ce-4c06-e61a-3306485edad5"
      },
      "source": [
        "#Convert the list ['rap','house','electronic music', 'rap'] to a set\n",
        "\n",
        "li = ['rap','house','electronic music', 'rap']\n",
        "\n",
        "li_set = set(li)\n",
        "print(type(li_set))\n",
        "print(\"-------\")\n",
        "\n",
        "#Consider the list A = [1, 2, 2, 1] and set B = set([1, 2, 2, 1]), does sum(A) = sum(B)\n",
        "#set --> removing duplicates\n",
        "A = [1, 2, 2, 1]\n",
        "B = set([1, 2, 2, 1])\n",
        "\n",
        "print(sum(A))\n",
        "print(sum(B))\n",
        "print(\"-------\")\n",
        "\n",
        "#Create a new set album_set3 that is the union of album_set1 and album_set2: album_set1 = set([\"Thriller\", 'AC/DC', 'Back in Black']) album_set2 = set([ \"AC/DC\", \"Back in Black\", \"The Dark Side of the Moon\"])]\n",
        "album_set1 = set([\"Thriller\", 'AC/DC', 'Back in Black']) \n",
        "album_set2 = set([ \"AC/DC\", \"Back in Black\", \"The Dark Side of the Moon\"])\n",
        "\n",
        "album_set3 = album_set1.union(album_set2)\n",
        "print(album_set3)\n",
        "print(\"-------\")\n",
        "\n",
        "#Find out if album_set1 is a subset of album_set3\n",
        "if album_set1.issubset(album_set3):\n",
        "  print(\"True\")\n",
        "else:\n",
        "  print(\"False\")"
      ],
      "execution_count": 60,
      "outputs": [
        {
          "output_type": "stream",
          "text": [
            "<class 'set'>\n",
            "-------\n",
            "6\n",
            "3\n",
            "-------\n",
            "{'Thriller', 'Back in Black', 'The Dark Side of the Moon', 'AC/DC'}\n",
            "-------\n",
            "True\n"
          ],
          "name": "stdout"
        }
      ]
    },
    {
      "cell_type": "markdown",
      "metadata": {
        "id": "OBiYLD4PS5Xg",
        "colab_type": "text"
      },
      "source": [
        "### #4-1."
      ]
    },
    {
      "cell_type": "code",
      "metadata": {
        "id": "uxuR0yGhQYdx",
        "colab_type": "code",
        "colab": {
          "base_uri": "https://localhost:8080/",
          "height": 34
        },
        "outputId": "ea95487d-0fc5-4c8d-989c-173d8b4fed68"
      },
      "source": [
        "#when the Artist name is 'Michael\", print our the genre of the artist\n",
        "\n",
        "Dict ={\"Artist\": \"Michael\", \"Genre\": \"R&B\", \"Sales\": 10000}\n",
        "\n",
        "def find_genre(artist):\n",
        "  if(Dict[\"Artist\"])==artist:\n",
        "    print(Dict[\"Genre\"])\n",
        "  else: \n",
        "    print(\"None\")\n",
        "\n",
        "find_genre(\"Michael\")"
      ],
      "execution_count": 61,
      "outputs": [
        {
          "output_type": "stream",
          "text": [
            "R&B\n"
          ],
          "name": "stdout"
        }
      ]
    },
    {
      "cell_type": "markdown",
      "metadata": {
        "id": "N-ZX4WNETrjP",
        "colab_type": "text"
      },
      "source": [
        "### #4-2."
      ]
    },
    {
      "cell_type": "code",
      "metadata": {
        "id": "Eca2n58CTdz1",
        "colab_type": "code",
        "colab": {
          "base_uri": "https://localhost:8080/",
          "height": 68
        },
        "outputId": "7ce2d4f9-3294-4fb0-bc5d-ba7e157b9a69"
      },
      "source": [
        "#Write a Python program to convert temperatures to and from celsius, fahrenheit (Kelvin temperature limitation is -273cencius, e.g., declare your value at -50000, 50000)\n",
        "\n",
        "degree = input(\"Select your degree (F or C) :   \")\n",
        "temperature = float(input(\"Input your temperature:   \"))\n",
        "\n",
        "#change to upper case if user put lower case\n",
        "degree = degree.upper()\n",
        "\n",
        "if degree == 'C':\n",
        "  F = round((temperature * 9/5) + 32)\n",
        "  print(\"Your temperature in F is \",F,\"F\")\n",
        "\n",
        "elif degree == 'F':\n",
        "  C = round((temperature - 32) * 5/9)\n",
        "  print(\"Your temperature in C is \",C,\"C\")\n",
        "\n",
        "else :\n",
        "  print(\"select your temperature degree only F or C\")"
      ],
      "execution_count": 62,
      "outputs": [
        {
          "output_type": "stream",
          "text": [
            "Select your degree (F or C) :   C\n",
            "Input your temperature:   35\n",
            "Your temperature in F is  95 F\n"
          ],
          "name": "stdout"
        }
      ]
    },
    {
      "cell_type": "code",
      "metadata": {
        "id": "JG0QoCRHUimk",
        "colab_type": "code",
        "colab": {
          "base_uri": "https://localhost:8080/",
          "height": 85
        },
        "outputId": "6a235adf-d76f-46c1-b749-ae3b070417f2"
      },
      "source": [
        "#Write a Python programme to count how many even numbers and odd number is a list (e.g., L = [1, 2, 3, 5, 9, 31, 28, 91])\n",
        "\n",
        "L = [1,4,2,5,33,3,55,7,8]\n",
        "odd = []\n",
        "even = []\n",
        "\n",
        "for i in range(len(L)):\n",
        "  if L[i]%2 == 1:\n",
        "    odd.append(L[i])\n",
        "  else:\n",
        "    even.append(L[i])\n",
        "\n",
        "print(odd)\n",
        "print(even)\n",
        "print('Odd Numbers',len(odd))\n",
        "print('Even Numvers',len(even))"
      ],
      "execution_count": 63,
      "outputs": [
        {
          "output_type": "stream",
          "text": [
            "[1, 5, 33, 3, 55, 7]\n",
            "[4, 2, 8]\n",
            "Odd Numbers 6\n",
            "Even Numvers 3\n"
          ],
          "name": "stdout"
        }
      ]
    },
    {
      "cell_type": "code",
      "metadata": {
        "id": "sAlNW0fvUkZf",
        "colab_type": "code",
        "colab": {
          "base_uri": "https://localhost:8080/",
          "height": 51
        },
        "outputId": "81ec5406-a8b8-4462-9262-84750e92b14b"
      },
      "source": [
        "#Write a Python program, extending the codes from Question 2 in Assignment #4-2, how many prime numbers (소수) are in the list [Note that if you solve this problem, you will win the Fields Medal (a kind of Nobel prize in Maths)\n",
        "\n",
        "L = [1,4,2,5,33,3,55,7,8]\n",
        "Primenum = []\n",
        "\n",
        "def Find_Prime(i):\n",
        "  if i < 2:\n",
        "    return False\n",
        "  for j in range(2,i):\n",
        "    if i % j is 0:\n",
        "      return False\n",
        "  else:\n",
        "    Primenum.append(i)\n",
        "\n",
        "for i in L:\n",
        "  Find_Prime(i)\n",
        "\n",
        "print(Primenum)\n",
        "print(len(Primenum))"
      ],
      "execution_count": 64,
      "outputs": [
        {
          "output_type": "stream",
          "text": [
            "[2, 5, 3, 7]\n",
            "4\n"
          ],
          "name": "stdout"
        }
      ]
    }
  ]
}